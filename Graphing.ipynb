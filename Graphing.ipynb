{
 "cells": [
  {
   "cell_type": "code",
   "execution_count": 4,
   "id": "579acc88-5328-4827-87ed-9b89679143f4",
   "metadata": {
    "tags": []
   },
   "outputs": [
    {
     "name": "stdout",
     "output_type": "stream",
     "text": [
      "Requirement already satisfied: pandas in c:\\users\\connor\\documents\\jupyter\\awakelabs\\venv\\lib\\site-packages (1.2.4)\n",
      "Collecting as\n",
      "  Downloading as-0.1-py3-none-any.whl (2.2 kB)\n",
      "Collecting pd\n",
      "  Downloading pd-0.0.1.tar.gz (5.3 kB)\n",
      "Requirement already satisfied: pytz>=2017.3 in c:\\users\\connor\\documents\\jupyter\\awakelabs\\venv\\lib\\site-packages (from pandas) (2021.1)\n",
      "Requirement already satisfied: numpy>=1.16.5 in c:\\users\\connor\\documents\\jupyter\\awakelabs\\venv\\lib\\site-packages (from pandas) (1.20.3)\n",
      "Requirement already satisfied: python-dateutil>=2.7.3 in c:\\users\\connor\\documents\\jupyter\\awakelabs\\venv\\lib\\site-packages (from pandas) (2.8.1)\n",
      "Requirement already satisfied: six>=1.5 in c:\\users\\connor\\documents\\jupyter\\awakelabs\\venv\\lib\\site-packages (from python-dateutil>=2.7.3->pandas) (1.16.0)\n",
      "Building wheels for collected packages: pd\n",
      "  Building wheel for pd (setup.py): started\n",
      "  Building wheel for pd (setup.py): finished with status 'done'\n",
      "  Created wheel for pd: filename=pd-0.0.1-py3-none-any.whl size=6539 sha256=b9f8dface4ec56ebf4a3aa223997bfd5a7683a2a75bf926841fc2d9975d8c619\n",
      "  Stored in directory: c:\\users\\connor\\appdata\\local\\pip\\cache\\wheels\\c0\\45\\39\\f9063988f991ef39fdbe4e5f2c0e9085e3e0ab0465602e33da\n",
      "Successfully built pd\n",
      "Installing collected packages: pd, as\n",
      "Successfully installed as-0.1 pd-0.0.1\n",
      "Note: you may need to restart the kernel to use updated packages.\n"
     ]
    }
   ],
   "source": [
    "pip install pandas"
   ]
  },
  {
   "cell_type": "code",
   "execution_count": 12,
   "id": "4ba5d910-eb8f-4a21-8fa6-82a4da42c930",
   "metadata": {},
   "outputs": [
    {
     "name": "stdout",
     "output_type": "stream",
     "text": [
      "Collecting bokeh\n",
      "  Downloading bokeh-2.3.2.tar.gz (10.7 MB)\n",
      "Collecting PyYAML>=3.10\n",
      "  Downloading PyYAML-5.4.1-cp37-cp37m-win_amd64.whl (210 kB)\n",
      "Requirement already satisfied: python-dateutil>=2.1 in c:\\users\\connor\\documents\\jupyter\\awakelabs\\venv\\lib\\site-packages (from bokeh) (2.8.1)\n",
      "Requirement already satisfied: Jinja2>=2.9 in c:\\users\\connor\\documents\\jupyter\\awakelabs\\venv\\lib\\site-packages (from bokeh) (3.0.1)\n",
      "Requirement already satisfied: numpy>=1.11.3 in c:\\users\\connor\\documents\\jupyter\\awakelabs\\venv\\lib\\site-packages (from bokeh) (1.20.3)\n",
      "Requirement already satisfied: pillow>=7.1.0 in c:\\users\\connor\\documents\\jupyter\\awakelabs\\venv\\lib\\site-packages (from bokeh) (8.2.0)\n",
      "Requirement already satisfied: packaging>=16.8 in c:\\users\\connor\\documents\\jupyter\\awakelabs\\venv\\lib\\site-packages (from bokeh) (20.9)\n",
      "Requirement already satisfied: tornado>=5.1 in c:\\users\\connor\\documents\\jupyter\\awakelabs\\venv\\lib\\site-packages (from bokeh) (6.1)\n",
      "Requirement already satisfied: typing_extensions>=3.7.4 in c:\\users\\connor\\documents\\jupyter\\awakelabs\\venv\\lib\\site-packages (from bokeh) (3.10.0.0)\n",
      "Requirement already satisfied: MarkupSafe>=2.0 in c:\\users\\connor\\documents\\jupyter\\awakelabs\\venv\\lib\\site-packages (from Jinja2>=2.9->bokeh) (2.0.1)\n",
      "Requirement already satisfied: pyparsing>=2.0.2 in c:\\users\\connor\\documents\\jupyter\\awakelabs\\venv\\lib\\site-packages (from packaging>=16.8->bokeh) (2.4.7)\n",
      "Requirement already satisfied: six>=1.5 in c:\\users\\connor\\documents\\jupyter\\awakelabs\\venv\\lib\\site-packages (from python-dateutil>=2.1->bokeh) (1.16.0)\n",
      "Building wheels for collected packages: bokeh\n",
      "  Building wheel for bokeh (setup.py): started\n",
      "  Building wheel for bokeh (setup.py): finished with status 'done'\n",
      "  Created wheel for bokeh: filename=bokeh-2.3.2-py3-none-any.whl size=11334277 sha256=bcf8b4d7899aae056114fe7a2564349a71b50d86ec6c8c096e3b41f2b26f73f8\n",
      "  Stored in directory: c:\\users\\connor\\appdata\\local\\pip\\cache\\wheels\\71\\96\\e1\\80f7dbc16a958ed861b3c3ccd00b4c3b11951ff004856c398a\n",
      "Successfully built bokeh\n",
      "Installing collected packages: PyYAML, bokeh\n",
      "Successfully installed PyYAML-5.4.1 bokeh-2.3.2\n",
      "Note: you may need to restart the kernel to use updated packages.\n"
     ]
    }
   ],
   "source": [
    "pip install bokeh"
   ]
  },
  {
   "cell_type": "code",
   "execution_count": 1,
   "id": "babc9833-6566-46f6-b434-82799f46a073",
   "metadata": {},
   "outputs": [],
   "source": [
    "import pandas as pd\n",
    "from bokeh.plotting import figure, output_file, show\n",
    "from bokeh.layouts import column, row\n",
    "from bokeh.models import ColumnDataSource, DatePicker, Select\n",
    "from bokeh.io import curdoc\n",
    "\n",
    "import json\n",
    "from datetime import datetime, timedelta"
   ]
  },
  {
   "cell_type": "code",
   "execution_count": 2,
   "id": "afec41ec-6877-4a04-9ab8-e365130b4abd",
   "metadata": {
    "tags": []
   },
   "outputs": [],
   "source": [
    "with open('./data.json') as f:\n",
    "    d = json.load(f)\n",
    "    d = d[list(d.keys())[0]]\n",
    "    d = list(map(lambda x: json.loads(x['data']), d))\n",
    "   \n",
    "df = pd.json_normalize(d)\n",
    "df['time'] = pd.to_datetime(df['time'], unit=\"ms\")\n",
    "time_series = df.groupby('time')['currentBpm'].mean()"
   ]
  },
  {
   "cell_type": "code",
   "execution_count": 23,
   "id": "5f5b9684-9177-4c88-91ee-5d4d3e61fb77",
   "metadata": {},
   "outputs": [],
   "source": [
    "def makeGraph(year, month, day, is_day=True):\n",
    "    p1 = figure(x_axis_type=\"datetime\", title=\"BPM\", plot_width=1250, plot_height=500)\n",
    "    p1.xaxis.axis_label = 'Date'\n",
    "    p1.yaxis.axis_label = 'BPM'\n",
    "    init_datetime = datetime(year,month,day)\n",
    "    # Show Day\n",
    "    if is_day:\n",
    "        day_data = time_series[init_datetime:init_datetime+timedelta(days=1)]\n",
    "        source = ColumnDataSource(pd.DataFrame(day_data))\n",
    "        day_line = p1.line(x=\"time\", y=\"currentBpm\",source=source)\n",
    "        p1.xaxis.ticker.desired_num_ticks = 24\n",
    "    \n",
    "    # Show Week\n",
    "    else:\n",
    "        start_of_week = init_datetime - timedelta(days=init_datetime.weekday())\n",
    "        end_of_week = start_of_week + timedelta(days=6)\n",
    "        cur_day = start_of_week\n",
    "        multi_line_data_time = []\n",
    "        multi_line_data_bpm = []\n",
    "        while cur_day <= end_of_week:\n",
    "            day_data = time_series[cur_day:cur_day+timedelta(days=1)]\n",
    "            multi_line_data_time.append(day_data.index)\n",
    "            multi_line_data_bpm.append(day_data.values)\n",
    "            #multi_line_data.append(day_data)\n",
    "            cur_day = cur_day + timedelta(days=1)\n",
    "        source = ColumnDataSource(dict(time=multi_line_data_time, currentBpm=multi_line_data_bpm))\n",
    "        week_line = p1.multi_line(xs=\"time\", ys=\"currentBpm\",source=source)\n",
    "        p1.xaxis.ticker.desired_num_ticks = 6\n",
    "    show(p1)\n",
    "\n",
    "makeGraph(2021,4,21, is_day=True)\n"
   ]
  },
  {
   "cell_type": "code",
   "execution_count": null,
   "id": "550268f8-cd36-4a47-a7b7-44045cc3a5d6",
   "metadata": {},
   "outputs": [],
   "source": [
    "# https://docs.bokeh.org/en/latest/docs/user_guide/interaction/widgets.html"
   ]
  },
  {
   "cell_type": "code",
   "execution_count": null,
   "id": "c24633f3-be2b-4f5f-a941-c583854aa2cd",
   "metadata": {},
   "outputs": [],
   "source": []
  }
 ],
 "metadata": {
  "kernelspec": {
   "display_name": "Python 3",
   "language": "python",
   "name": "python3"
  },
  "language_info": {
   "codemirror_mode": {
    "name": "ipython",
    "version": 3
   },
   "file_extension": ".py",
   "mimetype": "text/x-python",
   "name": "python",
   "nbconvert_exporter": "python",
   "pygments_lexer": "ipython3",
   "version": "3.7.9"
  }
 },
 "nbformat": 4,
 "nbformat_minor": 5
}
